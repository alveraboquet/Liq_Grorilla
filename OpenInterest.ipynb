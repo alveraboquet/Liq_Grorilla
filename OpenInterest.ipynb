{
  "cells": [
    {
      "cell_type": "markdown",
      "metadata": {
        "id": "view-in-github",
        "colab_type": "text"
      },
      "source": [
        "<a href=\"https://colab.research.google.com/github/neoxlarge/Liq_Grorilla/blob/main/OpenInterest.ipynb\" target=\"_parent\"><img src=\"https://colab.research.google.com/assets/colab-badge.svg\" alt=\"Open In Colab\"/></a>"
      ]
    },
    {
      "cell_type": "code",
      "execution_count": 19,
      "metadata": {
        "id": "6SvijJ4pGq6b"
      },
      "outputs": [],
      "source": [
        "## 顯示 json 物件用 Add this to the first block in your note book\n",
        "import uuid\n",
        "from IPython.core.display import display, HTML\n",
        "\n",
        "import json\n",
        "\n",
        "def RenderJSON(jstr):\n",
        "  if type(jstr) != str:\n",
        "    jstr = json.dumps(jstr)\n",
        "  return HTML(\"\"\"\n",
        "<script src=\"https://rawgit.com/caldwell/renderjson/master/renderjson.js\"></script>\n",
        "<script>\n",
        "renderjson.set_show_to_level(1)\n",
        "document.body.appendChild(renderjson(%s))\n",
        "new ResizeObserver(google.colab.output.resizeIframeToContent).observe(document.body)\n",
        "</script>\n",
        "\"\"\" % jstr)\n"
      ]
    },
    {
      "cell_type": "code",
      "execution_count": 20,
      "metadata": {
        "id": "7MmFy78w9dSH"
      },
      "outputs": [],
      "source": [
        "import webbrowser\n",
        "def GenerateTable(dataframe,title=\"data_frame\"):\n",
        "    # get the table HTML from the dataframe\n",
        "    table_html = dataframe.to_html(table_id=title,classes=\"DataTable\")\n",
        "    return f\"\"\"\n",
        "    <h3>{title}</h3>\n",
        "    <link href=\"https://cdn.datatables.net/1.12.1/css/jquery.dataTables.min.css\" rel=\"stylesheet\">    \n",
        "    {table_html}\n",
        "    <script src=\"https://code.jquery.com/jquery-3.6.0.slim.min.js\" \n",
        "            integrity=\"sha256-u7e5khyithlIdTpu22PHhENmPcRdFiHRjhAuHcs05RI=\" crossorigin=\"anonymous\"></script>\n",
        "    <script type=\"text/javascript\" src=\"https://cdn.datatables.net/1.12.1/js/jquery.dataTables.min.js\"></script>\n",
        "    <script>\n",
        "        $(document).ready( function () {{\n",
        "            $('#table').DataTable({{\n",
        "                // paging: false,    \n",
        "                // scrollY: 400,\n",
        "            }});\n",
        "        }});\n",
        "    </script> \n",
        "    <br><br>\n",
        "    \"\"\""
      ]
    },
    {
      "cell_type": "code",
      "execution_count": 21,
      "metadata": {
        "id": "n6Ds5zdIG1I2"
      },
      "outputs": [],
      "source": [
        "# 引用lib跟定義數據\n",
        "import requests\n",
        "import json\n",
        "import pandas as pd\n",
        "import datetime\n",
        "import time\n",
        "from sqlalchemy import create_engine #SQL查詢使用\n",
        "import sqlite3\n",
        "\n",
        "symbol_list = ['BTC','ETH','SOL','XRP','ADA','DOT','BNB','TRX','LTC','BCH','GMT','AVAX','MATIC','ETC','DOGE','LINK',\n",
        "         'EOS','SAND','ATOM','NEAR','AXS','APE','FTT','WAVES','FIL','FTM','MANA','SNX','GALA','UNI','CRV','AAVE',\n",
        "         'UNFI','THETA','XLM','DYDX','ZIL','ALGO','XTZ','XMR','PEOPLE','XEM','BSV','RUNE','COMP','YFI','SUSHI',\n",
        "         'SHIB','EGLD','1INCH','OP','KNC','ZEC','GRT','RSR','RLC','MKR','STORJ','CHZ','ENJ','OGN','SRM','BIT',\n",
        "         'CEL','ICP','AR','VET','LUNA2','BAT','NEO','ONE','KAVA','ENS','LRC','GAL','CRO','OMG','BNX','DASH',\n",
        "         'ALICE','KSM','IMX','ZRX','MTL','FLM','QTUM','IOST','ALT','BTCDOM','LOOKS','IOTA','SXP','HNT',\n",
        "         'SHIT','FLOW','CELO','LIT','BEL','API3','MASK','ONT','C98','REN','JASMY','BAKE','BAL','ROSE',\n",
        "         'HBAR','YGG','AUDIO','CHR','RAY','ANKR','ZEN','RVN','SLP','SKL','MID',\n",
        "         'BAND','CVC','CTK','TRB','BLZ','LPT','KLAY','HOT','STMX','IOTX','ALPHA','PAXG','ANT','ANC','OCEAN',\n",
        "         'LINA','GTC','CVX','SWRV','ICX','DEFI','COTI','ARPA','MINA','OKB','CELR','SFP','HT','TRU','DENT',\n",
        "         'REEF','WOO','CTSI','CAKE','ATA','DUSK','GLMR','STX','RNDR','TOMO','DGB','SPELL','FITFI','NKN','DAR',\n",
        "         'ILV','XAUT','CREAM','SOS','AGLD','BADGER','TLM','BOBA','BICO','JST','UNISWAP','BTS','STEP',\n",
        "         '1000XEC','TRYB','BRZ','LEO','PERP','TONCOIN','UMA','PRIV','CLV','SC','RON',\n",
        "         'KDA','RSS3','BSW','BTT','MEDIA','REQ','MAPS','CSPR','STARL',\n",
        "         'PROM','DODO','1000SHIB'];\n",
        "symbol_list_fiat = ['USDT', 'USDC']\n",
        "symbol_list_ftx = ['AMPL','FXS','GST','YFII','BNT','KSHIB','EXCH','ATLAS','FIDA']\n",
        "symbol_list_okex_only  = ['NYM','WNXM','XCH','GODS']\n",
        "symbol_list_bybit_only = ['XCN','SHIB1000','ASTR','AKRO']\n",
        "symbol_list_diff_name  = ['LUNA']\n",
        "symbol_list_oftenerror = ['BABYDOGE']\n",
        "\n",
        "debug_list = ['SOL','MATIC','BABYDOGE','TONCOIN','UMA']\n",
        "cg_headers = {'coinglassSecret': '7ef635a6899a4fbdb9db368d222c974d'}\n",
        "candles = {\"1m\": 9, \"5m\": 3, \"15m\": 10, \"30m\": 11, \"1h\": 2, \"4h\": 1, \"12h\": 4, \"24h\": 5, \"90d\": 18, \"all\": 0}\n",
        "\n",
        "#---------------------------------------------------------------------------------------------\n",
        "#自定義參數\n",
        "\n",
        "sqlite_database_file = \"oi_database.db\"\n",
        "\n",
        "\n"
      ]
    },
    {
      "cell_type": "code",
      "execution_count": 22,
      "metadata": {
        "id": "fiu3TZp8G6pq"
      },
      "outputs": [],
      "source": [
        "# 定義資料取得方法\n",
        "def get_oi_data(symbol, Timeframe=\"1m\"):\n",
        "    timeType = candles[Timeframe]\n",
        "    url = f\"https://open-api.coinglass.com/api/pro/v1/futures/openInterest?symbol={symbol}&interval={timeType}\"\n",
        "    response = requests.request(\"GET\", url, headers=cg_headers)\n",
        "    return json.loads(response.text)\n",
        "    \n",
        "def get_oi_chart_data(symbol, Timeframe):\n",
        "    timeType = candles[Timeframe]\n",
        "    url = f\"https://open-api.coinglass.com/api/pro/v1/futures/openInterest/chart?symbol={symbol}&interval={timeType}\"\n",
        "    response = requests.request(\"GET\", url, headers=cg_headers)\n",
        "    return json.loads(response.text)\n",
        "\n",
        "def get_lsur_data(symbol, Timeframe=\"5m\"):\n",
        "    timeType = candles[Timeframe]\n",
        "    url = f\"https://open-api.coinglass.com/api/pro/v1/futures/longShort_chart?symbol={symbol}&interval={timeType}\"\n",
        "    response = requests.request(\"GET\", url, headers=cg_headers)\n",
        "    return json.loads(response.text)\n",
        "\n",
        "def get_lsur_binance(symbol, timeframe=\"5m\", limit=24):\n",
        "    url = f\"https://www.binance.com/futures/data/globalLongShortAccountRatio?symbol={symbol}USDT&period={timeframe}&limit={limit}\"\n",
        "    response = requests.request(\"GET\", url, headers=cg_headers)\n",
        "    return json.loads(response.text)\n",
        "\n",
        "def get_lsur_binance_top_position(symbol, timeframe=\"5m\", limit=24):\n",
        "    #Top Trader Long/Short Ratio (Position)\n",
        "    #幣安大戶多空比倉位\n",
        "    url = f\"https://www.binance.com/futures/data/topLongShortPositionRatio?symbol={symbol}USDT&period={timeframe}&limit={limit}\"\n",
        "    response = requests.request(\"GET\", url, headers=cg_headers)\n",
        "    return json.loads(response.text)\n",
        "\n",
        "def get_lsur_binance_top_account(symbol, timeframe=\"5m\", limit=24):\n",
        "    #Top Trader Long/Short Ratio (Accounts)\n",
        "    #幣安大戶多空比帳戶\n",
        "    url = f\"https://www.binance.com/futures/data/topLongShortAccountRatio?symbol={symbol}USDT&period={timeframe}&limit={limit}\"\n",
        "    response = requests.request(\"GET\", url, headers=cg_headers)\n",
        "    return json.loads(response.text)\n",
        "\n",
        "def get_liq_detial(symbol, Timeframe=\"5m\"):\n",
        "    timeType = candles[Timeframe]\n",
        "    url = f\"https://open-api.coinglass.com/api/pro/v1/futures/liquidation/detail/chart?symbol={symbol}&timeType={timeType}\"\n",
        "    response = requests.request(\"GET\", url, headers=cg_headers)\n",
        "    return json.loads(response.text)\n",
        "\n",
        "def get_fr(symbol, ttype=\"U\"):\n",
        "    url = f\"https://open-api.coinglass.com/api/pro/v1/futures/funding_rates_chart?symbol={symbol}&type={ttype}\"\n",
        "    response = requests.request(\"GET\", url, headers=cg_headers)\n",
        "    return json.loads(response.text)\n",
        "\n",
        "def send_to_bot(tid_, msg, bot_token_):\n",
        "    url = f'https://api.telegram.org/bot{bot_token_}/sendMessage'\n",
        "    headers = {'content-type': 'application/json'}\n",
        "    data  = f'{{\"chat_id\": \"{tid_}\", \"text\": \"{msg}\", \"parse_mode\": \"HTML\", \"disable_web_page_preview\": true}}'.encode('utf-8')\n",
        "    r = requests.post(url, data=data, headers=headers, verify=False)\n"
      ]
    },
    {
      "cell_type": "code",
      "execution_count": 23,
      "metadata": {
        "colab": {
          "base_uri": "https://localhost:8080/"
        },
        "id": "OcGO59rl80Ma",
        "outputId": "a07998b8-28d9-42d3-c424-19428a1ae26d"
      },
      "outputs": [
        {
          "output_type": "stream",
          "name": "stdout",
          "text": [
            "1660616934000\n",
            "1660645734000\n",
            "1660615200000\n",
            "1660356000000\n"
          ]
        }
      ],
      "source": [
        "#daytime 統一daytime格式\n",
        "import datetime as dt\n",
        "dt_now = int(dt.datetime.now().timestamp()) * 1000                          #現在時間timestamp, UTC0\n",
        "dt_now_utc8 = dt_now + 8 * 60 * 60 * 1000                            #現在時間timestamp, UTC+8\n",
        "dt_last1hr = int(dt.datetime.now().timestamp())  // 3600 * 3600 * 1000              #最近一個整數小時\n",
        "dt_72hr_ago = (int(dt.datetime.now().timestamp()) // 3600 * 3600 - 72 * 60 * 60) * 1000   #72個小時前\n",
        "\n",
        "print(f\"{dt_now}\")\n",
        "print(f\"{dt_now_utc8}\")\n",
        "print(f\"{dt_last1hr}\")\n",
        "print(f\"{dt_72hr_ago}\")"
      ]
    },
    {
      "cell_type": "code",
      "execution_count": 24,
      "metadata": {
        "colab": {
          "base_uri": "https://localhost:8080/"
        },
        "id": "EXbSMZt9G9z6",
        "outputId": "4957fee1-c7ad-4a33-b1a9-97a0ea230314"
      },
      "outputs": [
        {
          "output_type": "stream",
          "name": "stdout",
          "text": [
            "SWRV KeyError 'data'\n",
            "          Price  OI_1h  OI_4h  OI_24h      OI$M        FR  LSUR\n",
            "symbol                                                         \n",
            "CHZ     $0.2080  14.08   0.62   66.02  $119.36M   0.0076%   NaN\n",
            "XEM     $0.0529   1.75   1.90   12.09   $12.36M   0.0098%   NaN\n",
            "THETA   $1.4934   1.38   1.19    0.28   $61.64M   0.0085%   NaN\n",
            "RAY     $0.8410   1.35   1.52   -1.83   $10.05M  -0.0000%   NaN\n",
            "BIT     $0.5200   1.31  -5.51  -13.31   $21.53M   0.0051%   NaN\n",
            "STMX    $0.0099   1.23   0.09  -10.98    $5.92M   0.0126%   NaN\n",
            "SPELL   $0.0017   1.17  -7.24   27.73    $3.70M  -0.0037%   NaN\n",
            "MATIC   $0.9580   0.94  -2.57  -17.90  $266.28M  -0.0025%   NaN\n",
            "SHIB    $0.0000   0.88  -1.16  -28.78   $40.96M   0.0028%   NaN\n",
            "GMT     $1.0663   0.83  -0.18    3.13  $182.16M  -0.0117%   NaN\n"
          ]
        }
      ],
      "source": [
        "# 建立幣總表 2百多筆要約2分多鐘\n",
        "# 定義欄位\n",
        "col = ['symbol',\"Price\",\"OI_1h\",\"OI_4h\",\"OI_24h\",\"OI$M\",\"FR\"]\n",
        "df = pd.DataFrame(columns=col) # df 是用pandas建立的表格\n",
        "error_msg = \"\"\n",
        "for symbol in symbol_list: # 每一個幣的資料\n",
        "    try:\n",
        "        coin_oi_data = get_oi_data(symbol)\n",
        "        oi_1h  = coin_oi_data[\"data\"][0][\"h1OIChangePercent\"]\n",
        "        oi_4h  = coin_oi_data[\"data\"][0][\"h4OIChangePercent\"]\n",
        "        oi_24h = coin_oi_data[\"data\"][0][\"h24Change\"]\n",
        "        fr     = coin_oi_data[\"data\"][0][\"avgFundingRate\"]\n",
        "        oi_mil = coin_oi_data[\"data\"][0][\"openInterest\"]/1000000\n",
        "        price  = coin_oi_data[\"data\"][1][\"price\"]\n",
        "\n",
        "        # 新增一筆資料至建立的表格df \n",
        "        df.loc[df.shape[0]] = [symbol,f\"${price:0.4f}\",oi_1h,oi_4h,oi_24h,f\"${oi_mil:0.2f}M\",f\"{fr:0.4f}%\"]\n",
        "    \n",
        "        time.sleep(200/1000) # api太頻繁取coinglass會擋\n",
        "    except Exception as e:\n",
        "        error_msg = error_msg + type(e).__name__ + \" \" + str(e).replace('\"', \"'\")\n",
        "        print(symbol + \" \" + error_msg)\n",
        "\n",
        "# 增加 LSUR 欄位\n",
        "col.append(\"LSUR\")\n",
        "df = df.reindex(columns=col) \n",
        "\n",
        "# 總表以 OI_1h 升序取前10筆\n",
        "df_1h_up10   = df.sort_values(by=\"OI_1h\", ascending=False).head(10)  \n",
        "# 10筆表以 symbol 當 index\n",
        "df_1h_up10.set_index('symbol', inplace = True)\n",
        "# 試印 df_1h_up10\n",
        "print(df_1h_up10) "
      ]
    },
    {
      "cell_type": "code",
      "execution_count": 25,
      "metadata": {
        "colab": {
          "base_uri": "https://localhost:8080/"
        },
        "id": "peLDzkWgHFHM",
        "outputId": "08f431a5-3dee-4859-ed51-f2911991d8e2"
      },
      "outputs": [
        {
          "output_type": "execute_result",
          "data": {
            "text/plain": [
              "False"
            ]
          },
          "metadata": {},
          "execution_count": 25
        }
      ],
      "source": [
        "# 產生網頁js表格\n",
        "html = GenerateTable(df)\n",
        "# write the HTML content to an HTML file\n",
        "open(\"index.html\", \"w\").write(html)\n",
        "# open the new HTML file with the default browser\n",
        "webbrowser.open(\"index.html\")\n",
        "        "
      ]
    },
    {
      "cell_type": "code",
      "execution_count": 26,
      "metadata": {
        "colab": {
          "base_uri": "https://localhost:8080/",
          "height": 121
        },
        "id": "ouHjdByzIW0t",
        "outputId": "65ef3cb9-d8b0-42cc-faf9-13e2e3dc64df"
      },
      "outputs": [
        {
          "output_type": "execute_result",
          "data": {
            "text/plain": [
              "<IPython.core.display.HTML object>"
            ],
            "text/html": [
              "\n",
              "<script src=\"https://rawgit.com/caldwell/renderjson/master/renderjson.js\"></script>\n",
              "<script>\n",
              "renderjson.set_show_to_level(1)\n",
              "document.body.appendChild(renderjson({\"code\": \"0\", \"msg\": \"success\", \"data\": {\"symbol\": \"ETC\", \"sellQty\": 0, \"buyQty\": 0, \"longRateList\": [50.44, 50.81, 44.33, 45.86, 41.07, 47.78, 53.09, 52.99, 54.92, 49.48, 54.63, 45.29, 54.0, 43.61, 39.24, 44.26, 49.07, 43.38, 61.54, 43.0, 51.97, 40.05, 44.91, 60.39, 58.02, 52.43, 47.48, 44.0, 55.94], \"shortsRateList\": [49.56, 49.19, 55.67, 54.14, 58.93, 52.22, 46.91, 47.01, 45.08, 50.52, 45.37, 54.71, 46.0, 56.39, 60.76, 55.74, 50.93, 56.62, 38.46, 57.0, 48.03, 59.95, 55.09, 39.61, 41.98, 47.57, 52.52, 56.0, 44.06], \"priceList\": [41.9565, 42.05619999, 42.2025, 41.9871, 41.5935, 41.1226, 41.0322, 41.2058, 41.10799999, 41.3799, 41.37019999, 41.569, 41.5173, 41.4512, 41.63409999, 41.6787, 41.5377, 41.6522, 41.4212, 41.75569999, 41.5965, 41.5053, 41.49199999, 41.353, 41.3789, 41.4012, 41.463, 41.4154, 41.3418], \"longShortRateList\": [1.0178, 1.0329, 0.7963, 0.8471, 0.6969, 0.915, 1.1317, 1.1272, 1.2183, 0.9794, 1.2041, 0.8278, 1.1739, 0.7734, 0.6458, 0.794, 0.9635, 0.7662, 1.6001, 0.7544, 1.082, 0.6681, 0.8152, 1.5246, 1.3821, 1.1022, 0.904, 0.7857, 1.2696], \"dateList\": [1660608000000, 1660608300000, 1660608600000, 1660608900000, 1660609200000, 1660609500000, 1660609800000, 1660610100000, 1660610400000, 1660610700000, 1660611000000, 1660611300000, 1660611600000, 1660611900000, 1660612200000, 1660612500000, 1660612800000, 1660613100000, 1660613400000, 1660613700000, 1660614000000, 1660614300000, 1660614600000, 1660614900000, 1660615200000, 1660615500000, 1660615800000, 1660616100000, 1660616400000], \"timeType\": 3}, \"success\": true}))\n",
              "new ResizeObserver(google.colab.output.resizeIframeToContent).observe(document.body)\n",
              "</script>\n"
            ]
          },
          "metadata": {},
          "execution_count": 26
        }
      ],
      "source": [
        "coin_lsur = get_lsur_data(\"ETC\", \"5m\")\n",
        "RenderJSON(coin_lsur)\n",
        "# coin_lsur[\"data\"][\"longShortRateList\"][-1]"
      ]
    },
    {
      "cell_type": "code",
      "execution_count": 27,
      "metadata": {
        "colab": {
          "base_uri": "https://localhost:8080/",
          "height": 190
        },
        "id": "MGGf47wL4RR9",
        "outputId": "0825ea8c-73eb-4bf1-9e7e-bba6f4ed873a"
      },
      "outputs": [
        {
          "output_type": "execute_result",
          "data": {
            "text/plain": [
              "<IPython.core.display.HTML object>"
            ],
            "text/html": [
              "\n",
              "<script src=\"https://rawgit.com/caldwell/renderjson/master/renderjson.js\"></script>\n",
              "<script>\n",
              "renderjson.set_show_to_level(1)\n",
              "document.body.appendChild(renderjson([{\"symbol\": \"NKNUSDT\", \"longAccount\": \"0.7201\", \"longShortRatio\": \"2.5727\", \"shortAccount\": \"0.2799\", \"timestamp\": 1660590000000}, {\"symbol\": \"NKNUSDT\", \"longAccount\": \"0.7160\", \"longShortRatio\": \"2.5211\", \"shortAccount\": \"0.2840\", \"timestamp\": 1660593600000}, {\"symbol\": \"NKNUSDT\", \"longAccount\": \"0.7121\", \"longShortRatio\": \"2.4734\", \"shortAccount\": \"0.2879\", \"timestamp\": 1660597200000}, {\"symbol\": \"NKNUSDT\", \"longAccount\": \"0.7115\", \"longShortRatio\": \"2.4662\", \"shortAccount\": \"0.2885\", \"timestamp\": 1660600800000}, {\"symbol\": \"NKNUSDT\", \"longAccount\": \"0.7184\", \"longShortRatio\": \"2.5511\", \"shortAccount\": \"0.2816\", \"timestamp\": 1660604400000}, {\"symbol\": \"NKNUSDT\", \"longAccount\": \"0.7108\", \"longShortRatio\": \"2.4578\", \"shortAccount\": \"0.2892\", \"timestamp\": 1660608000000}, {\"symbol\": \"NKNUSDT\", \"longAccount\": \"0.7184\", \"longShortRatio\": \"2.5511\", \"shortAccount\": \"0.2816\", \"timestamp\": 1660611600000}, {\"symbol\": \"NKNUSDT\", \"longAccount\": \"0.7119\", \"longShortRatio\": \"2.4710\", \"shortAccount\": \"0.2881\", \"timestamp\": 1660615200000}]))\n",
              "new ResizeObserver(google.colab.output.resizeIframeToContent).observe(document.body)\n",
              "</script>\n"
            ]
          },
          "metadata": {},
          "execution_count": 27
        }
      ],
      "source": [
        "lsur3 = get_lsur_binance(\"nkn\", \"1h\", 8)\n",
        "RenderJSON(lsur3)"
      ]
    },
    {
      "cell_type": "code",
      "execution_count": 28,
      "metadata": {
        "colab": {
          "base_uri": "https://localhost:8080/"
        },
        "id": "jXqRv23FW1fF",
        "outputId": "7d605ab6-c9a8-448e-d958-4711695ffc6e"
      },
      "outputs": [
        {
          "output_type": "stream",
          "name": "stdout",
          "text": [
            "BABYDOGE TypeError float() argument must be a string or a number, not 'NoneType'\n"
          ]
        }
      ],
      "source": [
        "# 建立全部幣的OI,LSUR,FR列表, 2百多筆要約8分多鐘\n",
        "# 命名格式\n",
        "# 1.API取回: _data\n",
        "# 2.Pandas dataframe: _df\n",
        "# 3.Sqlite3: _table, _view\n",
        "# 定義欄位\n",
        "col = [\"symbol\",\"TOP1_EX\",\"Price_1h\",\"Price_8h\",\"OI_1h_CG\",\"OI_8h_CG\",\n",
        "     \"OI_1h_BN\",\"OI_8h_BN\",\"LSUR_1h_BN\",\"LSUR_8h_BN\",\"LSUR_1h_BN_TOP_A\",\n",
        "     \"LSUR_8h_BN_TOP_A\",\"LSUR_1h_BN_TOP_P\",\"LSUR_8h_BN_TOP_P\",\n",
        "     \"LSUR_1h_CG\",\"LSUR_8h_CG\",\"FR\",\"Timestamp\"]\n",
        "error_msg = \"\"\n",
        "oi_df = pd.DataFrame(columns=col) # df 是用pandas建立的表格\n",
        "\n",
        "for symbol in debug_list : # 每一個幣的資料\n",
        "    try:\n",
        "        coin_oi_data = get_oi_chart_data(symbol,\"1h\")\n",
        "\n",
        "        #Top1持倉交易所\n",
        "        top1_exchanger = [(x,coin_oi_data[\"data\"][\"dataMap\"][x][-1]) for x in coin_oi_data[\"data\"][\"dataMap\"]]\n",
        "        top1_exchanger.sort(key = lambda y : y[1],reverse=True)\n",
        "        top1_exchanger = top1_exchanger[0][0]\n",
        "\n",
        "        #Binance 單一交易所持倉        \n",
        "        if \"Binance\" in coin_oi_data[\"data\"][\"dataMap\"].keys():\n",
        "            oi_1h_BN = float(coin_oi_data[\"data\"][\"dataMap\"][\"Binance\"][-1])\n",
        "            oi_8h_BN = float(coin_oi_data[\"data\"][\"dataMap\"][\"Binance\"][-8])\n",
        "        else:\n",
        "            oi_1h_BN = float(0)\n",
        "            oi_8h_BN = float(0)    \n",
        "        \n",
        "        #Coinglass 全部交易所持倉,自行加總\n",
        "\n",
        "        def none_to_0(input_): #部分數值為None, 可能會出錯, 把None改成0\n",
        "            if input_ == None:\n",
        "                return 0\n",
        "            else: return input_\n",
        "               \n",
        "        oi_1h_CG = float(0)\n",
        "        for i in coin_oi_data[\"data\"][\"dataMap\"].keys():\n",
        "            oi_1h_CG = oi_1h_CG + none_to_0(coin_oi_data[\"data\"][\"dataMap\"][i][-1])\n",
        "                    \n",
        "        oi_8h_CG = float(0)\n",
        "        for j in coin_oi_data[\"data\"][\"dataMap\"].keys():\n",
        "            oi_8h_CG = oi_8h_CG + none_to_0(coin_oi_data[\"data\"][\"dataMap\"][j][-8])\n",
        "        \n",
        "        #幣價              \n",
        "        price_1h  = float(coin_oi_data[\"data\"][\"priceList\"][-1])\n",
        "        price_8h  = float(coin_oi_data[\"data\"][\"priceList\"][-8])\n",
        "        \n",
        "        #幣安多空比\n",
        "        lsur_data_BN = get_lsur_binance(symbol, \"1h\", 8)\n",
        "\n",
        "        if lsur_data_BN:\n",
        "          lsur_1h_BN = float(lsur_data_BN[-1][\"longShortRatio\"])\n",
        "          lsur_8h_BN = float(lsur_data_BN[0][\"longShortRatio\"])                \n",
        "        else:\n",
        "          lsur_1h_BN = float(0)\n",
        "          lsur_8h_BN = float(0)\n",
        "\n",
        "        #幣安大戶多空比帳號\n",
        "        lsur_data_BN_top_account = get_lsur_binance_top_account(symbol, \"1h\", 8) \n",
        "        \n",
        "        if lsur_data_BN_top_account:\n",
        "          lsur_1h_BN_top_ac = float(lsur_data_BN_top_account[-1][\"longShortRatio\"])\n",
        "          lsur_8h_BN_top_ac = float(lsur_data_BN_top_account[0][\"longShortRatio\"])                \n",
        "        else:\n",
        "          lsur_1h_BN_top_ac = float(0)\n",
        "          lsur_8h_BN_top_ac = float(0)\n",
        "\n",
        "        #幣安大戶多空比倉位\n",
        "        lsur_data_BN_top_position = get_lsur_binance_top_position (symbol, \"1h\", 8) \n",
        "        \n",
        "        if lsur_data_BN_top_position:\n",
        "          lsur_1h_BN_top_po = float(lsur_data_BN_top_position[-1][\"longShortRatio\"])\n",
        "          lsur_8h_BN_top_po = float(lsur_data_BN_top_position[0][\"longShortRatio\"])                \n",
        "        else:\n",
        "          lsur_1h_BN_top_po = float(0)\n",
        "          lsur_8h_BN_top_po = float(0)\n",
        "\n",
        "        #Coinglass多空比\n",
        "        lsur_data_CG = get_lsur_data(symbol,\"1h\")\n",
        "\n",
        "        if lsur_data_CG:\n",
        "          lsur_1h_CG = float(lsur_data_CG[\"data\"][\"longShortRateList\"][-1])\n",
        "          lsur_8h_CG = float(lsur_data_CG[\"data\"][\"longShortRateList\"][-8])                \n",
        "        else:\n",
        "          lsur_1h_CG = float(0)\n",
        "          lsur_8h_CG = float(0)\n",
        "           \n",
        "        #資費\n",
        "        fr_data = get_fr(symbol)\n",
        "          #fr先抓幣安的,如果沒幣安的,就先填0吧,以後再改\n",
        "          #修改成抓top1交易所的fr\n",
        "        if top1_exchanger in fr_data[\"data\"][\"dataMap\"].keys():\n",
        "          fr_1h = fr_data[\"data\"][\"dataMap\"][top1_exchanger][-1]\n",
        "        else:\n",
        "          fr_1h = 0\n",
        "        #timestamp,計算次數會用到\n",
        "        timestamp = coin_oi_data[\"data\"][\"dateList\"][-1]\n",
        "        \n",
        "        # 新增一筆資料至建立的表格df \n",
        "        oi_df.loc[oi_df.shape[0]] = [symbol,top1_exchanger,\n",
        "                        price_1h,price_8h,oi_1h_CG,oi_8h_CG,\n",
        "                        oi_1h_BN,oi_8h_BN,lsur_1h_BN,lsur_8h_BN,\n",
        "                        lsur_1h_BN_top_ac,lsur_8h_BN_top_ac,\n",
        "                        lsur_1h_BN_top_po,lsur_8h_BN_top_po,\n",
        "                        lsur_1h_CG,lsur_8h_CG,fr_1h,timestamp]\n",
        "          \n",
        "        time.sleep(200/1000) # api太頻繁取coinglass會擋\n",
        "    except Exception as e:\n",
        "        error_msg = error_msg + type(e).__name__ + \" \" + str(e).replace('\"', \"'\")\n",
        "        print(symbol + \" \" + error_msg)\n",
        "\n",
        "# 增加 LSUR 欄位\n",
        "#col.append(\"LSUR\")\n",
        "#df = df.reindex(columns=col) \n",
        "#print(oi_df.head(5))"
      ]
    },
    {
      "cell_type": "markdown",
      "metadata": {
        "id": "aFdKc3dEe624"
      },
      "source": [
        ""
      ]
    },
    {
      "cell_type": "code",
      "execution_count": 29,
      "metadata": {
        "colab": {
          "base_uri": "https://localhost:8080/"
        },
        "id": "jALGg4bsBeWr",
        "outputId": "6040b683-6715-4715-e82e-1851dbaadbcb"
      },
      "outputs": [
        {
          "output_type": "stream",
          "name": "stdout",
          "text": [
            "Empty DataFrame\n",
            "Columns: [symbol, TOP1_EX, Price_1h, Price_8h, Price_change, OI_1h, OI_8h, OI_change, LSUR_1h, LSUR_8h, LSUR_change, FR, Timestamp]\n",
            "Index: []\n"
          ]
        }
      ],
      "source": [
        "#sqlite 資料庫操作\n",
        "#1.將pandas全部幣的資料表格存入SQL,以利用SQL查詢\n",
        "#2.Query出數據流訊號表: oi_view_BN, oi_view_BN\n",
        "#3.將數據流訊號表存當成oi_table_msgcount表,計算72小時出現的次數\n",
        "\n",
        "\n",
        "\n",
        "#應該可以復刻班的數據流訊號\n",
        "#Binance oi change > 20%\n",
        "#Binance LSUR change < -10%\n",
        "sql_create_oi_view_BN = \"\"\"\n",
        "create temp view oi_view_BN as\n",
        "select \n",
        "  symbol,\n",
        "  TOP1_EX,\n",
        "  Price_1h,\n",
        "  Price_8h,\n",
        "  (Price_1h - Price_8h) / Price_8h as Price_change,\n",
        "  OI_1h_BN as OI_1h,\n",
        "  OI_8h_BN as OI_8h,\n",
        "  ((OI_1h_BN - OI_8h_BN) / OI_8h_BN) as OI_change,\n",
        "  LSUR_1h_BN as LSUR_1h,\n",
        "  LSUR_8h_BN as LSUR_8h, \n",
        "  ((LSUR_1h_BN - LSUR_8h_BN)/LSUR_8h_BN) as LSUR_change, \n",
        "  FR,\n",
        "  Timestamp\n",
        "from oi_table_all \n",
        "where \n",
        "  OI_change > 0.2 \n",
        "  and LSUR_change < -0.1\n",
        "order by OI_change desc\"\"\"\n",
        "#以Coinglass的全網持倉和全網多空比抓資料,排除掉幣安的資料.\n",
        "#OI_change > 0.2 and LSUR_change < -0.1 and OI_1h_BN < 1\n",
        "sql_create_oi_view_CG = \"\"\"\n",
        "create temp view oi_view_CG as\n",
        "select \n",
        "  symbol,\n",
        "  TOP1_EX,\n",
        "  Price_1h,\n",
        "  Price_8h,\n",
        "  (Price_1h - Price_8h) / Price_8h as Price_change,\n",
        "  OI_1h_CG as OI_1h,\n",
        "  OI_8h_CG as OI_8h,\n",
        "  ((OI_1h_CG - OI_8h_CG) / OI_8h_CG) as OI_change,\n",
        "  LSUR_1h_CG as LSUR_1h,\n",
        "  LSUR_8h_CG as LSUR_8h, \n",
        "  ((LSUR_1h_CG - LSUR_8h_CG)/LSUR_8h_CG) as LSUR_change, \n",
        "  FR,\n",
        "  Timestamp\n",
        "from oi_table_all \n",
        "where \n",
        "  OI_change > 0.2 \n",
        "  and LSUR_change < -0.1\n",
        "  and OI_1h_BN < 1\n",
        "order by OI_change desc\n",
        "\"\"\"\n",
        "\n",
        "\n",
        "#建立oi_table_msgcount表格\n",
        "sql_create_oi_table_msgcount = \"\"\"\n",
        "create table if not exists oi_table_msgcount (\n",
        "symbol text,\n",
        "TOP1_EX text,\n",
        "Price_1h real,\n",
        "Price_8h real,\n",
        "Price_change real,\n",
        "OI_1h real,\n",
        "OI_8h real,\n",
        "OI_change real,\n",
        "LSUR_1h real,\n",
        "LSUR_8h real,\n",
        "LSUR_change real,\n",
        "FR real,\n",
        "Timestamp integer\n",
        ");\n",
        "\"\"\"\n",
        "\n",
        "\n",
        "#sql script\n",
        "#1.oi_view_BN, oi_view_BN, 加入到oi_table_msgcount表格\n",
        "\n",
        "sql_merge_to_oi_table_msgcount_script = \"\"\"\n",
        "insert into \n",
        "  oi_table_msgcount(symbol,TOP1_EX,Price_1h,Price_8h,Price_change,OI_1h,OI_8h,OI_change,LSUR_1h,LSUR_8h,LSUR_change,FR,Timestamp)\n",
        "select\n",
        "  symbol,TOP1_EX,Price_1h,Price_8h,Price_change,OI_1h,OI_8h,OI_change,LSUR_1h,LSUR_8h,LSUR_change,FR,Timestamp\n",
        "from\n",
        "  oi_view_BN;   \n",
        "\n",
        "insert into \n",
        "  oi_table_msgcount(symbol,TOP1_EX,Price_1h,Price_8h,Price_change,OI_1h,OI_8h,OI_change,LSUR_1h,LSUR_8h,LSUR_change,FR,Timestamp)\n",
        "select\n",
        "  symbol,TOP1_EX,Price_1h,Price_8h,Price_change,OI_1h,OI_8h,OI_change,LSUR_1h,LSUR_8h,LSUR_change,FR,Timestamp\n",
        "from\n",
        "  oi_view_CG;\n",
        "\n",
        "\"\"\"\n",
        "\n",
        "sql_create_oi_view_LSURlessthan1 = \"\"\"\n",
        "create temp view oi_view_lsurlessthan1 as\n",
        "select \n",
        "  symbol,\n",
        "  TOP1_EX,\n",
        "  Price_1h,\n",
        "  Price_8h,\n",
        "  (Price_1h - Price_8h) / Price_8h as Price_change,\n",
        "  OI_1h_BN as OI_1h,\n",
        "  OI_8h_BN as OI_8h,\n",
        "  ((OI_1h_BN - OI_8h_BN) / OI_8h_BN) as OI_change,\n",
        "  LSUR_1h_BN as LSUR_1h,\n",
        "  LSUR_8h_BN as LSUR_8h, \n",
        "  ((LSUR_1h_BN - LSUR_8h_BN)/LSUR_8h_BN) as LSUR_change, \n",
        "  FR,\n",
        "  Timestamp\n",
        "from oi_table_all \n",
        "where \n",
        "  (LSUR_1h_BN < 1 and LSUR_1h_BN > 0)\n",
        "  and (LSUR_1h_BN_TOP_A < 1 and LSUR_1h_BN_TOP_A > 0)\n",
        "  and (LSUR_1h_CG < 1 and LSUR_1h_CG > 0)\n",
        "order by OI_change desc\"\"\"\n",
        "\n",
        "\n",
        "\n",
        "#建立sqlite3本地儲存資料庫檔案\n",
        "conn = sqlite3.connect(sqlite_database_file)\n",
        "cur = conn.cursor()\n",
        "\n",
        "#將oi_df全幣表轉到sqlite oi_table_all\n",
        "cur.execute(\"drop table if exists oi_table_all\")\n",
        "conn.commit()\n",
        "oi_df.to_sql('oi_table_all', conn)\n",
        "\n",
        "#create sqlite view oi_view_BN oi_view_BN\n",
        "cur.execute(sql_create_oi_view_BN)\n",
        "cur.execute(sql_create_oi_view_CG)\n",
        "cur.execute(sql_create_oi_view_LSURlessthan1)\n",
        "\n",
        "#讀取到dataframe\n",
        "oi_df_BN = pd.read_sql(\"select * from oi_view_BN\",conn)\n",
        "oi_df_CG = pd.read_sql(\"select * from oi_view_CG\",conn)\n",
        "oi_df_lsurlessthan1 = pd.read_sql(\"select * from oi_view_lsurlessthan1\",conn)\n",
        "\n",
        "#oi_view_BN, oi_view_CG匯整到oi_table_msgcount表中\n",
        "cur.execute(sql_create_oi_table_msgcount) #如沒有table會新增table\n",
        "cur.executescript(sql_merge_to_oi_table_msgcount_script)\n",
        "\n",
        "conn.close()\n",
        "\n",
        "print(oi_df_BN)"
      ]
    },
    {
      "cell_type": "code",
      "execution_count": 30,
      "metadata": {
        "id": "QfDpQKfN5AIS"
      },
      "outputs": [],
      "source": [
        "\n",
        "def generate_cglink(symbol, exchange):\n",
        "   # 交易所連結格式\n",
        "   #BINANCE https://www.coinglass.com/zh-TW/tv/Binance_BTCUSDT\n",
        "   #BYBIT https://www.coinglass.com/zh-TW/tv/Bybit_BTCUSDT\n",
        "   #FTX  https://www.coinglass.com/zh-TW/tv/FTX_GMT-PERP\n",
        "   #OKEX https://www.coinglass.com/zh-TW/tv/Okex_BTC-USD-SWAP\n",
        "   #Bitget https://www.coinglass.com/zh-TW/tv/Bitget_ETHUSDT_UMCBL\n",
        "   #Huobi https://www.coinglass.com/zh-TW/tv/Huobi_WOO-USDT\n",
        "   \n",
        "   if exchange in [\"Binance\",\"Bybit\"]:\n",
        "     data = \"https://www.coinglass.com/zh-TW/tv/\" + exchange + \"_\" + symbol + \"USDT\"\n",
        "   elif exchange in [\"FTX\"]:\n",
        "     data = \"https://www.coinglass.com/zh-TW/tv/\" + exchange + \"_\" + symbol + \"-PERP\"\n",
        "   elif exchange in [\"Okex\"]:\n",
        "     data = \"https://www.coinglass.com/zh-TW/tv/\" + exchange + \"-\" + symbol + \"-USD-SWAP\"\n",
        "   elif exchange in [\"Bitget\"]:\n",
        "     data = \"https://www.coinglass.com/zh-TW/tv/\" + exchange + \"_\" + symbol + \"USDT_UMCBL\"\n",
        "   elif exchange in [\"Huobi\"]:\n",
        "     data = \"https://www.coinglass.com/zh-TW/tv/\" + exchange + \"_\" + symbol + \"-USDT\"\n",
        "   else:\n",
        "     data = \"https://www.coinglass.com/zh-TW/tv/\" + exchange + \"_\" + symbol + \"USDT\"        \n",
        "\n",
        "   data_link = \"<a href=\\\\\\\"\" + data + \"\\\\\\\">\" + exchange + \"_\" + symbol + \"</a>\"\n",
        "   #返回一個hyperlink\n",
        "   return data_link\n",
        "\n",
        "def df_to_tg_bot(df,title=\"test\",bot_chat_id=\"1011587295\"):\n",
        "#Coinglass OI channel chat_id:-1001647705274\n",
        "#test bot chat_id: 1011587295\n",
        "    #沒資料時不送訊息\n",
        "    if not df.empty:    \n",
        "        \n",
        "        msg = []\n",
        "        msg_link = []\n",
        "        #持倉資料最後時間, UTC+8 \n",
        "        formatted_time = dt.datetime.fromtimestamp(((df.at[0,'Timestamp']+8*60*60*1000)/1000)//3600*3600).strftime('%m-%d %H:%M')\n",
        "        \n",
        "        #msg line1\n",
        "        dt_now_filename = f\"{dt_now}.html\"\n",
        "        html_file = f\"/datasets/coinglassxoixlsur/web/{dt_now_filename}\"\n",
        "        web_link = f\"https://fefk3tqrazbqkxf6i6kz4q.on.drv.tw/web/{dt_now_filename}\"\n",
        "        msg.append(f\"<a href='{web_link}'>{title}</a> Date:{formatted_time}\\n\")\n",
        "        \n",
        "        #msg line2 ,先列出幣, 以利通知訊息可以先看到幣名\n",
        "        symbol_list=[ f\"#{x}\" for x in df['symbol']]\n",
        "        symbol_list = \" \".join(symbol_list)  \n",
        "        msg.append(f\"{symbol_list} \\n\")\n",
        "        msg.append('<code>Coin</code>  Price(change) <code>OI(change)</code> LSUR(change) <code>FR</code> \\n')\n",
        "\n",
        "        #開資料庫,準備查次數\n",
        "        conn = sqlite3.connect(sqlite_database_file)\n",
        "        cur = conn.cursor()\n",
        "            \n",
        "        #msg line3,　讀取oi_df_BN表格內容\n",
        "        msg.append(f\"---------------------------------------------------------------- \\n\")\n",
        "        for ix in df[\"symbol\"].keys():\n",
        "            msg_sy = f\"{df.at[ix,'symbol']}\"\n",
        "            msg_price = f\"{df.at[ix,'Price_1h']:5.4f}({df.at[ix,'Price_change']:.0%})\"\n",
        "            msg_oi = f\"{df.at[ix,'OI_1h']/1000000:.2f}M({df.at[ix,'OI_change']:.0%})\"\n",
        "            msg_lsur = f\"{df.at[ix,'LSUR_1h']:.2f}({df.at[ix,'LSUR_change']:.0%})\"\n",
        "            msg_fr = f\"{df.at[ix,'FR']:.4f}\"\n",
        "            msg_col = f\"<code>#{msg_sy:<5}</code>{msg_price: <13}<code>{msg_oi: <12}</code>{msg_lsur: <12}<code>{msg_fr}</code>\\n\" \n",
        "\n",
        "            msg.append(msg_col)\n",
        "\n",
        "            #產生連結,存到list裡,訊息尾使用\n",
        "            link = generate_cglink(df.at[ix,'symbol'],df.at[ix,'TOP1_EX'])\n",
        "            \n",
        "            sql_msgCount = f\"select count(*) as msg_count from oi_table_msgcount where symbol ='{df.at[ix,'symbol']}' and timestamp > {dt_72hr_ago} group by symbol\"\n",
        "            cur.execute(sql_msgCount)\n",
        "            msgcount = cur.fetchall()\n",
        "                    \n",
        "            if msgcount != [] and msgcount[0][0] > 1:\n",
        "              link = f\"{link} :  {msgcount[0][0]} times in 72hrs \\n\"\n",
        "            else: \n",
        "              link = f\"{link}\\n\"\n",
        "            msg_link.append(link)\n",
        "\n",
        "        conn.close()\n",
        "        #msg line4, Top1 exchanger and hyperlink\n",
        "        msg.append('---------------------------------------------------------------- \\n Top1 Exchanger(link):  \\n')\n",
        "        for i in msg_link:\n",
        "            msg.append(i)\n",
        "\n",
        "        #Coinglass OI channel chat_id:-1001647705274\n",
        "        #test bot chat_id: 1011587295\n",
        "        msg_all =\"\"\n",
        "        for i in msg:\n",
        "            msg_all += i\n",
        "        \n",
        "        bot_token = '5556315407:AAHpetcMV8PSuW2xWZo012mvTsRuKvqVPMY'\n",
        "        #chat_id = '1011587295'\n",
        "        send_to_bot(bot_chat_id,msg_all,bot_token)    \n",
        "        return msg        \n",
        "        \n",
        "\n"
      ]
    },
    {
      "cell_type": "code",
      "execution_count": 31,
      "metadata": {
        "id": "RRLyFTR7eoqz"
      },
      "outputs": [],
      "source": [
        "#執行step\n",
        "#setp1:建立sql查詢\n",
        "#sql查詢結果存到dataframe\n",
        "#將dataframe傳給df_to_tg_bot.\n",
        "\n",
        "df_to_tg_bot(oi_df_BN,\"test🐮🐮Binance OI\")\n",
        "df_to_tg_bot(oi_df_CG,\"test🐮🐮Coinglass OI\")\n",
        "df_to_tg_bot(oi_df_lsurlessthan1,\"test💵💵幣安,全網多空比,大戶多空(帳戶)小於1\")"
      ]
    },
    {
      "cell_type": "code",
      "execution_count": 32,
      "metadata": {
        "colab": {
          "base_uri": "https://localhost:8080/"
        },
        "id": "iF-_6Nyrpoyf",
        "outputId": "85266b4a-17a2-4d18-acfc-eeaa73d6c325"
      },
      "outputs": [
        {
          "output_type": "stream",
          "name": "stdout",
          "text": [
            "  symbol top1_ex      timestamp  price_1h  liq_1h_sell   liq_2h_sell  \\\n",
            "0   AVAX    Okex  1660611600000   27.8500          0.0  22692.982095   \n",
            "1  MATIC     FTX  1660611600000    0.9538          0.0   4423.475917   \n",
            "\n",
            "     liq_3h_sell  liq_4h_sell   liq_5h_sell  liq_6h_sell  ...    liq_3h_buy  \\\n",
            "0  143797.510250  36188.88110             0      0.00000  ...  66275.267200   \n",
            "1  204887.130762  25727.67939  13368.148827   1891.64233  ...  34379.208775   \n",
            "\n",
            "   liq_4h_buy  liq_5h_buy  liq_6h_buy  liq_7h_buy liq_8h_buy  liq_9h_buy  \\\n",
            "0       0.000           0     6201.63         0.0   0.000000      0.0000   \n",
            "1   22623.543         0.0        0.00         0.0  13.346655    252.7002   \n",
            "\n",
            "   liq_10h_buy  liq_11h_buy  liq_12h_buy  \n",
            "0   1209.77400   2881.55650            0  \n",
            "1  54302.82874  10069.10526       8649.9  \n",
            "\n",
            "[2 rows x 28 columns]\n"
          ]
        }
      ],
      "source": [
        "#Liquidation 爆倉流 建立dataframe\n",
        "\n",
        "#自定coin\n",
        "watchinglist_symbol = {'AVAX','MATIC'} #set可消附重復的值.再轉回list即可\n",
        "\n",
        "conn = sqlite3.connect(sqlite_database_file)\n",
        "cur = conn.cursor()\n",
        "sql_symbolin72hr = f\"select symbol from oi_table_msgcount where timestamp > {dt_72hr_ago} group by symbol\"\n",
        "coin = cur.execute(sql_symbolin72hr)\n",
        "coin2 = coin.fetchall()\n",
        "for i in coin2:\n",
        "    watchinglist_symbol.add(i[0]) \n",
        "watchinglist_symbol = list(watchinglist_symbol)\n",
        "\n",
        "col =[\"symbol\",\"top1_ex\",\"timestamp\",\"price_1h\"] + [f\"liq_{i}h_sell\" for i in range(1,13)] + [f\"liq_{i}h_buy\" for i in range(1,13)]\n",
        "\n",
        "liq_df = pd.DataFrame(columns=col) \n",
        "error_msg = \"\"\n",
        "for i in watchinglist_symbol:\n",
        "    try:\n",
        "        liq_data = get_liq_detial(i,\"1h\")\n",
        "        liq_data = liq_data[\"data\"]\n",
        "        time.sleep(200/1000)\n",
        "        liq_1h_list_buy = []\n",
        "        liq_1h_list_sell = []\n",
        "        shift_t = -1\n",
        "        while liq_data[shift_t][\"createTime\"] >= dt_last1hr:\n",
        "            shift_t -= 1\n",
        "\n",
        "        for j in liq_data[shift_t:(shift_t-12):-1]:\n",
        "            liq_1h_list_buy.append(j[\"buyVolUsd\"])\n",
        "            liq_1h_list_sell.append(j[\"sellVolUsd\"])\n",
        "\n",
        "        #找出爆倉最多的交易所\n",
        "        liq_data_top1_ex = [(x[\"exchangeName\"],x[\"sellVolUsd\"]-x[\"buyVolUsd\"]) for x in liq_data[shift_t][\"list\"]]\n",
        "        liq_data_top1_ex.sort(key = lambda y : y[1],reverse=True)    \n",
        "        liq_data_top1_ex = liq_data_top1_ex[0][0]  \n",
        "\n",
        "        liq_1h_list_sellbuy = [i,liq_data_top1_ex,liq_data[shift_t][\"createTime\"],liq_data[shift_t][\"price\"]] + liq_1h_list_sell + liq_1h_list_buy\n",
        "    \n",
        "        liq_df.loc[liq_df.shape[0]] = liq_1h_list_sellbuy\n",
        "    except Exception as e:\n",
        "        error_msg = error_msg + type(e).__name__ + \" \" + str(e).replace('\"', \"'\")\n",
        "        print(i + \" \" + error_msg)\n",
        "\n",
        "conn.close()\n",
        "print(liq_df)\n"
      ]
    },
    {
      "cell_type": "code",
      "source": [
        "print(liq_df)\n",
        "def format_dataframe(df,col):\n",
        "    for i in df:\n",
        "        print(i)\n"
      ],
      "metadata": {
        "colab": {
          "base_uri": "https://localhost:8080/"
        },
        "id": "hbZTSfI0aUrk",
        "outputId": "0667f7bc-2ee5-4ab6-89dc-2c2200d9004a"
      },
      "execution_count": 33,
      "outputs": [
        {
          "output_type": "stream",
          "name": "stdout",
          "text": [
            "  symbol top1_ex      timestamp  price_1h  liq_1h_sell   liq_2h_sell  \\\n",
            "0   AVAX    Okex  1660611600000   27.8500          0.0  22692.982095   \n",
            "1  MATIC     FTX  1660611600000    0.9538          0.0   4423.475917   \n",
            "\n",
            "     liq_3h_sell  liq_4h_sell   liq_5h_sell  liq_6h_sell  ...    liq_3h_buy  \\\n",
            "0  143797.510250  36188.88110             0      0.00000  ...  66275.267200   \n",
            "1  204887.130762  25727.67939  13368.148827   1891.64233  ...  34379.208775   \n",
            "\n",
            "   liq_4h_buy  liq_5h_buy  liq_6h_buy  liq_7h_buy liq_8h_buy  liq_9h_buy  \\\n",
            "0       0.000           0     6201.63         0.0   0.000000      0.0000   \n",
            "1   22623.543         0.0        0.00         0.0  13.346655    252.7002   \n",
            "\n",
            "   liq_10h_buy  liq_11h_buy  liq_12h_buy  \n",
            "0   1209.77400   2881.55650            0  \n",
            "1  54302.82874  10069.10526       8649.9  \n",
            "\n",
            "[2 rows x 28 columns]\n"
          ]
        }
      ]
    },
    {
      "cell_type": "code",
      "execution_count": 34,
      "metadata": {
        "colab": {
          "base_uri": "https://localhost:8080/"
        },
        "id": "WjnWcYlIsnwJ",
        "outputId": "3a1cb789-73cd-4c13-933a-3d9213a0bffb"
      },
      "outputs": [
        {
          "output_type": "stream",
          "name": "stdout",
          "text": [
            "Empty DataFrame\n",
            "Columns: [symbol, top1_ex, timestamp, price_1h, liq_1h_sell, liq_1h_buy, liq_5h_sum]\n",
            "Index: []\n"
          ]
        }
      ],
      "source": [
        "#Liquidation 爆倉流 dataframe to sqlite\n",
        "\n",
        "#建立sqlite3本地儲存資料庫檔案\n",
        "conn = sqlite3.connect(sqlite_database_file)\n",
        "cur = conn.cursor()\n",
        "\n",
        "#將oi_df全幣表轉到sqlite oi_table_all\n",
        "cur.execute(\"drop table if exists liq_table\")\n",
        "conn.commit()\n",
        "liq_df.to_sql(\"liq_table\", conn)\n",
        "\n",
        "#淨多單(多單-空單))爆倉大於100k\n",
        "sql_create_liq_view_sell_1h = \"\"\"\n",
        "create temp view liq_view_sell_1h as\n",
        "select \n",
        "    symbol,\n",
        "    top1_ex,\n",
        "    timestamp,\n",
        "    price_1h,\n",
        "    liq_1h_sell,\n",
        "    liq_1h_buy,\n",
        "    (liq_1h_sell+liq_2h_sell+liq_3h_sell+liq_4h_sell+liq_5h_sell) - (liq_1h_buy+liq_2h_buy+liq_3h_buy+liq_4h_buy+liq_5h_buy) as liq_5h_sum \n",
        "from \n",
        "    liq_table \n",
        "where \n",
        "    (liq_1h_sell - liq_1h_buy) > 10 \n",
        "order by\n",
        "    liq_1h_sell desc\n",
        "\"\"\"\n",
        "#5小時內淨多單大於300K\n",
        "sql_create_liq_view_sell_5h = \"\"\"\n",
        "create temp view liq_view_sell_5h as\n",
        "select \n",
        "    symbol,\n",
        "    (liq_1h_sell - liq_1h_buy) as liq_1h_sell,\n",
        "    liq_1h_sell,\n",
        "    (liq_1h_sell+liq_2h_sell+liq_3h_sell+liq_4h_sell+liq_5h_sell) as liq_5h_sum \n",
        "from \n",
        "    liq_table \n",
        "where \n",
        "    (liq_1h_sell+liq_2h_sell+liq_3h_sell+liq_4h_sell+liq_5h_sell) - (liq_1h_buy+liq_2h_buy+liq_3h_buy+liq_4h_buy+liq_5h_buy) > 300000\n",
        "\"\"\"\n",
        "\n",
        "sql_test = \"\"\"\n",
        "\n",
        "\n",
        "\"\"\"\n",
        "\n",
        "cur.execute(sql_create_liq_view_sell_1h)\n",
        "liq_df_sell_1h = pd.read_sql(\"select * from liq_view_sell_1h\", conn)\n",
        "\n",
        "\n",
        "conn.close()\n",
        "print(liq_df_sell_1h)"
      ]
    },
    {
      "cell_type": "code",
      "execution_count": 35,
      "metadata": {
        "id": "0OOO02NDBkTu"
      },
      "outputs": [],
      "source": [
        "def df_to_tg_liq_bot(df,title=\"test\",bot_chat_id=\"1011587295\"):\n",
        "#Coinglass OI channel chat_id:-1001647705274\n",
        "#test bot chat_id: 1011587295\n",
        "    \n",
        "    #沒資料時不送訊息\n",
        "    if not df.empty:\n",
        "\n",
        "        conn = sqlite3.connect(sqlite_database_file)\n",
        "        cur = conn.cursor()\n",
        "\n",
        "        msg = []\n",
        "        msg_link = []\n",
        "        \n",
        "        #持倉資料最後時間, UTC+8 \n",
        "        formatted_time = dt.datetime.fromtimestamp(((df.at[0,'timestamp']+8*60*60*1000) / 1000)//3600 * 3600).strftime('%m-%d %H:%M')\n",
        "        \n",
        "        #msg line1\n",
        "        dt_now_filename = f\"{dt_now}.html\"\n",
        "        html_file = f\"/datasets/coinglassxoixlsur/web/{dt_now_filename}\"\n",
        "        web_link = f\"https://fefk3tqrazbqkxf6i6kz4q.on.drv.tw/web/{dt_now_filename}\"\n",
        "        msg.append(f\"<a href='{web_link}'>{title}</a> Date:{formatted_time}\\n\")\n",
        "        \n",
        "        #msg line2 ,先列出幣, 以利通知訊息可以先看到幣名\n",
        "        symbol_list=[ f\"#{x}\" for x in df['symbol']]\n",
        "        symbol_list = \" \".join(symbol_list)\n",
        "        msg.append(f\"{symbol_list} \\n\")\n",
        "\n",
        "        #symbol, price ,淨多單爆, 空單爆, 5小時多單共爆\n",
        "        msg.append('<code>Coin</code> 價格  <code>多單爆</code> 空單爆 <code>5h淨多單共爆</code>\\n')\n",
        "            \n",
        "        #msg line3,讀取liq_sell_1h表格內容\n",
        "        msg.append(f\"-------------------------------- \\n\")\n",
        "        for i in df[\"symbol\"].keys():\n",
        "            msg_symbol = f\"{df.at[i,'symbol']}\"\n",
        "            msg_price = f\"{df.at[i,'price_1h']:.3f}\"\n",
        "            msg_liq_1h_sell = f\"{df.at[i,'liq_1h_sell']/1000:.2f}K\"\n",
        "            msg_liq_1h_buy = f\"{df.at[i,'liq_1h_buy']/1000:.2f}K\"\n",
        "            msg_liq_5h_sum = f\"{df.at[i,'liq_5h_sum']/1000:.2f}K\"\n",
        "            msg_col = f\"<code>#{msg_symbol:<5} </code>{msg_price}  <code> {msg_liq_1h_sell}</code>  {msg_liq_1h_buy} <code> {msg_liq_5h_sum}</code> \\n\" \n",
        "            print(msg_liq_1h_sell)\n",
        "            msg.append(msg_col)\n",
        "\n",
        "            msg_link.append(f\"{generate_cglink(df.at[i,'symbol'],df.at[i,'top1_ex'])} \\n\")\n",
        "            \n",
        "        #msg line4, Top1 exchanger and hyperlink\n",
        "        msg.append('--------------------------------\\n')\n",
        "        for i in msg_link:\n",
        "            msg.append(i)\n",
        "\n",
        "        #Coinglass OI channel chat_id:-1001647705274\n",
        "        #test bot chat_id: 1011587295\n",
        "        msg_all =\"\"\n",
        "        for i in msg:\n",
        "            msg_all += i\n",
        "        \n",
        "        bot_token = '5556315407:AAHpetcMV8PSuW2xWZo012mvTsRuKvqVPMY'\n",
        "        #chat_id = '1011587295'\n",
        "        send_to_bot(bot_chat_id,msg_all,bot_token)    \n",
        "        return msg        \n",
        "        \n",
        "        conn.close()\n"
      ]
    },
    {
      "cell_type": "code",
      "execution_count": 36,
      "metadata": {
        "colab": {
          "base_uri": "https://localhost:8080/"
        },
        "id": "o0RkyMLNB95I",
        "outputId": "07bb2096-25e2-464e-ee22-8c5b7355b251"
      },
      "outputs": [
        {
          "output_type": "stream",
          "name": "stdout",
          "text": [
            "Empty DataFrame\n",
            "Columns: [symbol, top1_ex, timestamp, price_1h, liq_1h_sell, liq_1h_buy, liq_5h_sum]\n",
            "Index: []\n"
          ]
        }
      ],
      "source": [
        "print(liq_df_sell_1h)\n",
        "df_to_tg_liq_bot(liq_df_sell_1h,\"test💥💥Liquidation alert\")\n"
      ]
    },
    {
      "cell_type": "code",
      "execution_count": 37,
      "metadata": {
        "colab": {
          "base_uri": "https://localhost:8080/"
        },
        "id": "mgTvkAX7frK-",
        "outputId": "09cc5092-fc1e-4aa5-daa7-da73ade0c399"
      },
      "outputs": [
        {
          "output_type": "execute_result",
          "data": {
            "text/plain": [
              "4436"
            ]
          },
          "metadata": {},
          "execution_count": 37
        }
      ],
      "source": [
        "#寫到html\n",
        "import os\n",
        "\n",
        "dt_now_filename = f\"{dt_now}.html\"\n",
        "\n",
        "curr_path = os.getcwd()\n",
        "if curr_path == '/content':  #colab path\n",
        "    html_file = f\"/content/{dt_now_filename}\" \n",
        "elif curr_path == '/work': #deepnote path\n",
        "    html_file = f\"/datasets/coinglassxoixlsur/web/{dt_now_filename}\"\n",
        "\n",
        "web_link = f\"https://fefk3tqrazbqkxf6i6kz4q.on.drv.tw/web/{dt_now_filename}\"    \n",
        "\n",
        "\n",
        "\n",
        "# 產生網頁js表格\n",
        "show_time = f\"<h3>{dt.datetime.fromtimestamp(dt_now_utc8 /1000).strftime('%Y-%m-%d %H:%M')}</h3>\"\n",
        "oi_BN_html = GenerateTable(oi_df_BN,\"Binance_OI\")\n",
        "oi_CG_html = GenerateTable(oi_df_CG,\"Conglass_OI\")\n",
        "oi_lsurlessthan1_thml = GenerateTable(oi_df_lsurlessthan1,\"LSUR_all_less_than_1\")\n",
        "liq_html = GenerateTable(liq_df_sell_1h,\"Liquidation_last1_hour\")\n",
        "html = show_time + oi_BN_html + oi_CG_html + oi_lsurlessthan1_thml + liq_html\n",
        "# write the HTML content to an HTML file\n",
        "open(html_file, \"w\").write(html)\n",
        "\n"
      ]
    }
  ],
  "metadata": {
    "colab": {
      "collapsed_sections": [],
      "name": "OpenInterest.ipynb",
      "provenance": [],
      "include_colab_link": true
    },
    "kernelspec": {
      "display_name": "Python 3",
      "name": "python3"
    },
    "language_info": {
      "name": "python"
    }
  },
  "nbformat": 4,
  "nbformat_minor": 0
}